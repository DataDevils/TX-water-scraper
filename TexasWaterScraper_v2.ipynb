{
 "cells": [
  {
   "cell_type": "markdown",
   "metadata": {},
   "source": [
    "## Texas Water Scraper\n",
    "* Get a list of sites for the year to scrape\n",
    "* Loop through each size; generate and pull a report\n",
    "* Scrape the report details into a csv file\n",
    "---\n",
    "Requires:\n",
    "* The selenium package and the geckodriver.exe file (for Mozilla browsers)."
   ]
  },
  {
   "cell_type": "code",
   "execution_count": 21,
   "metadata": {},
   "outputs": [],
   "source": [
    "#Import libraries\n",
    "import os, glob, time\n",
    "import pandas as pd\n",
    "import requests\n",
    "import unicodedata\n",
    "from bs4 import BeautifulSoup\n",
    "from selenium import webdriver\n",
    "from selenium.webdriver.support.ui import Select\n",
    "from selenium.webdriver.common.by import By\n",
    "from selenium.webdriver.support.ui import WebDriverWait \n",
    "from selenium.webdriver.support import expected_conditions as EC"
   ]
  },
  {
   "cell_type": "code",
   "execution_count": 22,
   "metadata": {},
   "outputs": [],
   "source": [
    "#Settings\n",
    "year = 2016\n",
    "theURL = 'http://www2.twdb.texas.gov/ReportServerExt/Pages/ReportViewer.aspx?%2fWU%2fSumFinal_WUG_Entity_Detail_2016&rs:Command=Render'"
   ]
  },
  {
   "cell_type": "markdown",
   "metadata": {},
   "source": [
    "### 1. Scrape a list of utilities from the base URL"
   ]
  },
  {
   "cell_type": "code",
   "execution_count": 23,
   "metadata": {},
   "outputs": [],
   "source": [
    "#Call the page and convert it to 'soup'\n",
    "response = requests.get(theURL)\n",
    "soup = BeautifulSoup(response.content,'lxml')\n",
    "\n",
    "#Extract the control from the 'soup'\n",
    "tbl = soup.find(id=\"ReportViewerControl_ctl04_ctl03\")\n",
    "\n",
    "#Create a list of utilities and populate values from each option in the control\n",
    "utilities = []\n",
    "values = []\n",
    "for option in tbl.findAll('option')[1:]: #Skips the first item\n",
    "    #Remove unicode chars\n",
    "    utility = unicodedata.normalize(\"NFKD\",option.text)\n",
    "    utilities.append(utility)\n",
    "    values.append(option.attrs['value'])\n",
    "    \n"
   ]
  },
  {
   "cell_type": "markdown",
   "metadata": {},
   "source": [
    "### 2. Loop through each utility and extract its report\n",
    "This step requires the selenium package to open a remotely controlled browser, mimic selecting the utility and clicking the View Report button, then waiting for the report to complete and appear. Once that occurs the contents stored as a local HTML file for later scraping. "
   ]
  },
  {
   "cell_type": "code",
   "execution_count": 32,
   "metadata": {
    "scrolled": false
   },
   "outputs": [
    {
     "name": "stdout",
     "output_type": "stream",
     "text": [
      "AUBREY:\t  fetching report... Complete! Saved to ./Pages/AUBREY_2016.html\n",
      "AUSTIN:\t  fetching report... Complete! Saved to ./Pages/AUSTIN_2016.html\n",
      "AUSTIN COUNTY WSC:\t"
     ]
    },
    {
     "ename": "StaleElementReferenceException",
     "evalue": "Message: The element reference of <option> is stale; either the element is no longer attached to the DOM, it is not in the current frame context, or the document has been refreshed\n",
     "output_type": "error",
     "traceback": [
      "\u001b[1;31m---------------------------------------------------------------------------\u001b[0m",
      "\u001b[1;31mStaleElementReferenceException\u001b[0m            Traceback (most recent call last)",
      "\u001b[1;32m<ipython-input-32-a53c2cc99890>\u001b[0m in \u001b[0;36m<module>\u001b[1;34m()\u001b[0m\n\u001b[0;32m     22\u001b[0m     \u001b[1;31m#Select the item and 'click' it\u001b[0m\u001b[1;33m\u001b[0m\u001b[1;33m\u001b[0m\u001b[0m\n\u001b[0;32m     23\u001b[0m     \u001b[0mutilControl\u001b[0m \u001b[1;33m=\u001b[0m \u001b[0mSelect\u001b[0m\u001b[1;33m(\u001b[0m\u001b[0mbrowser\u001b[0m\u001b[1;33m.\u001b[0m\u001b[0mfind_element_by_id\u001b[0m\u001b[1;33m(\u001b[0m\u001b[1;34m'ReportViewerControl_ctl04_ctl03_ddValue'\u001b[0m\u001b[1;33m)\u001b[0m\u001b[1;33m)\u001b[0m\u001b[1;33m\u001b[0m\u001b[0m\n\u001b[1;32m---> 24\u001b[1;33m     \u001b[0mutilControl\u001b[0m\u001b[1;33m.\u001b[0m\u001b[0mselect_by_value\u001b[0m\u001b[1;33m(\u001b[0m\u001b[0mvalue\u001b[0m\u001b[1;33m)\u001b[0m\u001b[1;33m\u001b[0m\u001b[0m\n\u001b[0m\u001b[0;32m     25\u001b[0m \u001b[1;33m\u001b[0m\u001b[0m\n\u001b[0;32m     26\u001b[0m     \u001b[1;31m#Select the View Report button to retrieve the report\u001b[0m\u001b[1;33m\u001b[0m\u001b[1;33m\u001b[0m\u001b[0m\n",
      "\u001b[1;32m~\\AppData\\Local\\Continuum\\miniconda3\\envs\\dataman\\lib\\site-packages\\selenium\\webdriver\\support\\select.py\u001b[0m in \u001b[0;36mselect_by_value\u001b[1;34m(self, value)\u001b[0m\n\u001b[0;32m     80\u001b[0m         \u001b[0mmatched\u001b[0m \u001b[1;33m=\u001b[0m \u001b[1;32mFalse\u001b[0m\u001b[1;33m\u001b[0m\u001b[0m\n\u001b[0;32m     81\u001b[0m         \u001b[1;32mfor\u001b[0m \u001b[0mopt\u001b[0m \u001b[1;32min\u001b[0m \u001b[0mopts\u001b[0m\u001b[1;33m:\u001b[0m\u001b[1;33m\u001b[0m\u001b[0m\n\u001b[1;32m---> 82\u001b[1;33m             \u001b[0mself\u001b[0m\u001b[1;33m.\u001b[0m\u001b[0m_setSelected\u001b[0m\u001b[1;33m(\u001b[0m\u001b[0mopt\u001b[0m\u001b[1;33m)\u001b[0m\u001b[1;33m\u001b[0m\u001b[0m\n\u001b[0m\u001b[0;32m     83\u001b[0m             \u001b[1;32mif\u001b[0m \u001b[1;32mnot\u001b[0m \u001b[0mself\u001b[0m\u001b[1;33m.\u001b[0m\u001b[0mis_multiple\u001b[0m\u001b[1;33m:\u001b[0m\u001b[1;33m\u001b[0m\u001b[0m\n\u001b[0;32m     84\u001b[0m                 \u001b[1;32mreturn\u001b[0m\u001b[1;33m\u001b[0m\u001b[0m\n",
      "\u001b[1;32m~\\AppData\\Local\\Continuum\\miniconda3\\envs\\dataman\\lib\\site-packages\\selenium\\webdriver\\support\\select.py\u001b[0m in \u001b[0;36m_setSelected\u001b[1;34m(self, option)\u001b[0m\n\u001b[0;32m    210\u001b[0m     \u001b[1;32mdef\u001b[0m \u001b[0m_setSelected\u001b[0m\u001b[1;33m(\u001b[0m\u001b[0mself\u001b[0m\u001b[1;33m,\u001b[0m \u001b[0moption\u001b[0m\u001b[1;33m)\u001b[0m\u001b[1;33m:\u001b[0m\u001b[1;33m\u001b[0m\u001b[0m\n\u001b[0;32m    211\u001b[0m         \u001b[1;32mif\u001b[0m \u001b[1;32mnot\u001b[0m \u001b[0moption\u001b[0m\u001b[1;33m.\u001b[0m\u001b[0mis_selected\u001b[0m\u001b[1;33m(\u001b[0m\u001b[1;33m)\u001b[0m\u001b[1;33m:\u001b[0m\u001b[1;33m\u001b[0m\u001b[0m\n\u001b[1;32m--> 212\u001b[1;33m             \u001b[0moption\u001b[0m\u001b[1;33m.\u001b[0m\u001b[0mclick\u001b[0m\u001b[1;33m(\u001b[0m\u001b[1;33m)\u001b[0m\u001b[1;33m\u001b[0m\u001b[0m\n\u001b[0m\u001b[0;32m    213\u001b[0m \u001b[1;33m\u001b[0m\u001b[0m\n\u001b[0;32m    214\u001b[0m     \u001b[1;32mdef\u001b[0m \u001b[0m_unsetSelected\u001b[0m\u001b[1;33m(\u001b[0m\u001b[0mself\u001b[0m\u001b[1;33m,\u001b[0m \u001b[0moption\u001b[0m\u001b[1;33m)\u001b[0m\u001b[1;33m:\u001b[0m\u001b[1;33m\u001b[0m\u001b[0m\n",
      "\u001b[1;32m~\\AppData\\Local\\Continuum\\miniconda3\\envs\\dataman\\lib\\site-packages\\selenium\\webdriver\\remote\\webelement.py\u001b[0m in \u001b[0;36mclick\u001b[1;34m(self)\u001b[0m\n\u001b[0;32m     78\u001b[0m     \u001b[1;32mdef\u001b[0m \u001b[0mclick\u001b[0m\u001b[1;33m(\u001b[0m\u001b[0mself\u001b[0m\u001b[1;33m)\u001b[0m\u001b[1;33m:\u001b[0m\u001b[1;33m\u001b[0m\u001b[0m\n\u001b[0;32m     79\u001b[0m         \u001b[1;34m\"\"\"Clicks the element.\"\"\"\u001b[0m\u001b[1;33m\u001b[0m\u001b[0m\n\u001b[1;32m---> 80\u001b[1;33m         \u001b[0mself\u001b[0m\u001b[1;33m.\u001b[0m\u001b[0m_execute\u001b[0m\u001b[1;33m(\u001b[0m\u001b[0mCommand\u001b[0m\u001b[1;33m.\u001b[0m\u001b[0mCLICK_ELEMENT\u001b[0m\u001b[1;33m)\u001b[0m\u001b[1;33m\u001b[0m\u001b[0m\n\u001b[0m\u001b[0;32m     81\u001b[0m \u001b[1;33m\u001b[0m\u001b[0m\n\u001b[0;32m     82\u001b[0m     \u001b[1;32mdef\u001b[0m \u001b[0msubmit\u001b[0m\u001b[1;33m(\u001b[0m\u001b[0mself\u001b[0m\u001b[1;33m)\u001b[0m\u001b[1;33m:\u001b[0m\u001b[1;33m\u001b[0m\u001b[0m\n",
      "\u001b[1;32m~\\AppData\\Local\\Continuum\\miniconda3\\envs\\dataman\\lib\\site-packages\\selenium\\webdriver\\remote\\webelement.py\u001b[0m in \u001b[0;36m_execute\u001b[1;34m(self, command, params)\u001b[0m\n\u001b[0;32m    626\u001b[0m             \u001b[0mparams\u001b[0m \u001b[1;33m=\u001b[0m \u001b[1;33m{\u001b[0m\u001b[1;33m}\u001b[0m\u001b[1;33m\u001b[0m\u001b[0m\n\u001b[0;32m    627\u001b[0m         \u001b[0mparams\u001b[0m\u001b[1;33m[\u001b[0m\u001b[1;34m'id'\u001b[0m\u001b[1;33m]\u001b[0m \u001b[1;33m=\u001b[0m \u001b[0mself\u001b[0m\u001b[1;33m.\u001b[0m\u001b[0m_id\u001b[0m\u001b[1;33m\u001b[0m\u001b[0m\n\u001b[1;32m--> 628\u001b[1;33m         \u001b[1;32mreturn\u001b[0m \u001b[0mself\u001b[0m\u001b[1;33m.\u001b[0m\u001b[0m_parent\u001b[0m\u001b[1;33m.\u001b[0m\u001b[0mexecute\u001b[0m\u001b[1;33m(\u001b[0m\u001b[0mcommand\u001b[0m\u001b[1;33m,\u001b[0m \u001b[0mparams\u001b[0m\u001b[1;33m)\u001b[0m\u001b[1;33m\u001b[0m\u001b[0m\n\u001b[0m\u001b[0;32m    629\u001b[0m \u001b[1;33m\u001b[0m\u001b[0m\n\u001b[0;32m    630\u001b[0m     \u001b[1;32mdef\u001b[0m \u001b[0mfind_element\u001b[0m\u001b[1;33m(\u001b[0m\u001b[0mself\u001b[0m\u001b[1;33m,\u001b[0m \u001b[0mby\u001b[0m\u001b[1;33m=\u001b[0m\u001b[0mBy\u001b[0m\u001b[1;33m.\u001b[0m\u001b[0mID\u001b[0m\u001b[1;33m,\u001b[0m \u001b[0mvalue\u001b[0m\u001b[1;33m=\u001b[0m\u001b[1;32mNone\u001b[0m\u001b[1;33m)\u001b[0m\u001b[1;33m:\u001b[0m\u001b[1;33m\u001b[0m\u001b[0m\n",
      "\u001b[1;32m~\\AppData\\Local\\Continuum\\miniconda3\\envs\\dataman\\lib\\site-packages\\selenium\\webdriver\\remote\\webdriver.py\u001b[0m in \u001b[0;36mexecute\u001b[1;34m(self, driver_command, params)\u001b[0m\n\u001b[0;32m    312\u001b[0m         \u001b[0mresponse\u001b[0m \u001b[1;33m=\u001b[0m \u001b[0mself\u001b[0m\u001b[1;33m.\u001b[0m\u001b[0mcommand_executor\u001b[0m\u001b[1;33m.\u001b[0m\u001b[0mexecute\u001b[0m\u001b[1;33m(\u001b[0m\u001b[0mdriver_command\u001b[0m\u001b[1;33m,\u001b[0m \u001b[0mparams\u001b[0m\u001b[1;33m)\u001b[0m\u001b[1;33m\u001b[0m\u001b[0m\n\u001b[0;32m    313\u001b[0m         \u001b[1;32mif\u001b[0m \u001b[0mresponse\u001b[0m\u001b[1;33m:\u001b[0m\u001b[1;33m\u001b[0m\u001b[0m\n\u001b[1;32m--> 314\u001b[1;33m             \u001b[0mself\u001b[0m\u001b[1;33m.\u001b[0m\u001b[0merror_handler\u001b[0m\u001b[1;33m.\u001b[0m\u001b[0mcheck_response\u001b[0m\u001b[1;33m(\u001b[0m\u001b[0mresponse\u001b[0m\u001b[1;33m)\u001b[0m\u001b[1;33m\u001b[0m\u001b[0m\n\u001b[0m\u001b[0;32m    315\u001b[0m             response['value'] = self._unwrap_value(\n\u001b[0;32m    316\u001b[0m                 response.get('value', None))\n",
      "\u001b[1;32m~\\AppData\\Local\\Continuum\\miniconda3\\envs\\dataman\\lib\\site-packages\\selenium\\webdriver\\remote\\errorhandler.py\u001b[0m in \u001b[0;36mcheck_response\u001b[1;34m(self, response)\u001b[0m\n\u001b[0;32m    240\u001b[0m                 \u001b[0malert_text\u001b[0m \u001b[1;33m=\u001b[0m \u001b[0mvalue\u001b[0m\u001b[1;33m[\u001b[0m\u001b[1;34m'alert'\u001b[0m\u001b[1;33m]\u001b[0m\u001b[1;33m.\u001b[0m\u001b[0mget\u001b[0m\u001b[1;33m(\u001b[0m\u001b[1;34m'text'\u001b[0m\u001b[1;33m)\u001b[0m\u001b[1;33m\u001b[0m\u001b[0m\n\u001b[0;32m    241\u001b[0m             \u001b[1;32mraise\u001b[0m \u001b[0mexception_class\u001b[0m\u001b[1;33m(\u001b[0m\u001b[0mmessage\u001b[0m\u001b[1;33m,\u001b[0m \u001b[0mscreen\u001b[0m\u001b[1;33m,\u001b[0m \u001b[0mstacktrace\u001b[0m\u001b[1;33m,\u001b[0m \u001b[0malert_text\u001b[0m\u001b[1;33m)\u001b[0m\u001b[1;33m\u001b[0m\u001b[0m\n\u001b[1;32m--> 242\u001b[1;33m         \u001b[1;32mraise\u001b[0m \u001b[0mexception_class\u001b[0m\u001b[1;33m(\u001b[0m\u001b[0mmessage\u001b[0m\u001b[1;33m,\u001b[0m \u001b[0mscreen\u001b[0m\u001b[1;33m,\u001b[0m \u001b[0mstacktrace\u001b[0m\u001b[1;33m)\u001b[0m\u001b[1;33m\u001b[0m\u001b[0m\n\u001b[0m\u001b[0;32m    243\u001b[0m \u001b[1;33m\u001b[0m\u001b[0m\n\u001b[0;32m    244\u001b[0m     \u001b[1;32mdef\u001b[0m \u001b[0m_value_or_default\u001b[0m\u001b[1;33m(\u001b[0m\u001b[0mself\u001b[0m\u001b[1;33m,\u001b[0m \u001b[0mobj\u001b[0m\u001b[1;33m,\u001b[0m \u001b[0mkey\u001b[0m\u001b[1;33m,\u001b[0m \u001b[0mdefault\u001b[0m\u001b[1;33m)\u001b[0m\u001b[1;33m:\u001b[0m\u001b[1;33m\u001b[0m\u001b[0m\n",
      "\u001b[1;31mStaleElementReferenceException\u001b[0m: Message: The element reference of <option> is stale; either the element is no longer attached to the DOM, it is not in the current frame context, or the document has been refreshed\n"
     ]
    }
   ],
   "source": [
    "#Create the selenium browser object\n",
    "browser = webdriver.Firefox(executable_path='./geckodriver.exe')\n",
    "\n",
    "#Open the page in the selenium browser\n",
    "browser.get(theURL)\n",
    "\n",
    "#Loop through each utility\n",
    "for value,utility in zip(values,utilities):\n",
    "        \n",
    "    #Set the output filename from the utility and year values\n",
    "    outFN = \"./Pages/{}_{}.html\".format(utility.replace(\" \",\"_\"),year)\n",
    "    \n",
    "    #Skip if already downloaded\n",
    "    if os.path.exists(outFN):\n",
    "        #print(\"Already processed.\")\n",
    "        continue\n",
    "\n",
    "    #Status\n",
    "    print(\"{}:\\t\".format(utility),end=\"\")\n",
    "\n",
    "\n",
    "    #Select the item and 'click' it\n",
    "    utilControl = Select(browser.find_element_by_id('ReportViewerControl_ctl04_ctl03_ddValue'))\n",
    "    utilControl.select_by_value(value)\n",
    "\n",
    "    #Select the View Report button to retrieve the report\n",
    "    browser.find_element_by_xpath('//*[@id=\"ReportViewerControl_ctl04_ctl00\"]').click()\n",
    "\n",
    "    #Wait for the report to complete (i.e. when the utility's name appears on the active page)\n",
    "    searchText = \"{}</div>\".format(utility)\n",
    "\n",
    "    print(\"  fetching report\",end=\"... \")\n",
    "    while True:\n",
    "        pageSource = browser.page_source\n",
    "        elapsed_time = time.time() - start_time\n",
    "        #Wait until the \"cancel\" <div> object disappears:\n",
    "        if not browser.find_element_by_id('ReportViewerControl_AsyncWait_Wait').is_displayed():\n",
    "            print(\"Complete! Saved to {}\".format(outFN))\n",
    "            with open(outFN,'w') as outfile:\n",
    "                outfile.write(browser.page_source)\n",
    "                #---------------------------------Check for 2nd page\n",
    "                soup = BeautifulSoup(pageSource,'lxml') \n",
    "                pageCtrl = soup.find(id='ReportViewerControl_ctl05_ctl00_TotalPages')\n",
    "                if '2' in pageCtrl.contents[0]: # There's a 2nd page\n",
    "                    print(\"   fetching 2nd page\",end=\"... \")\n",
    "                    #Click to fetch the 2nd page\n",
    "                    browser.find_element_by_xpath('//*[@id=\"ReportViewerControl_ctl05_ctl00_Next_ctl00_ctl00\"]').click()\n",
    "                    #Wait until page loads\n",
    "                    while True:\n",
    "                        page2Source = browser.page_source\n",
    "                        ctrl = BeautifulSoup(page2Source,'lxml').find(id='ReportViewerControl_ctl05_ctl00_TotalPages')\n",
    "                        if \"?\" not in ctrl.contents[0]:\n",
    "                            outFN2 = outFN[:-5]+\"_pg2.html\"\n",
    "                            with open(outFN2,'w') as outFile2: \n",
    "                                outFile2.write(browser.page_source)\n",
    "                            break\n",
    "                #---------------------------------\n",
    "            break\n",
    "\n",
    "    #Save the page to a file\n",
    "    #with open(outFN,'w') as outfile:\n",
    "    #    outfile.write(browser.page_source)\n"
   ]
  },
  {
   "cell_type": "code",
   "execution_count": 29,
   "metadata": {},
   "outputs": [
    {
     "ename": "WebDriverException",
     "evalue": "Message: Failed to decode response from marionette\n",
     "output_type": "error",
     "traceback": [
      "\u001b[1;31m---------------------------------------------------------------------------\u001b[0m",
      "\u001b[1;31mWebDriverException\u001b[0m                        Traceback (most recent call last)",
      "\u001b[1;32m<ipython-input-29-5c9618f9e696>\u001b[0m in \u001b[0;36m<module>\u001b[1;34m()\u001b[0m\n\u001b[1;32m----> 1\u001b[1;33m \u001b[0mpageCtrl\u001b[0m\u001b[1;33m.\u001b[0m\u001b[0mtag_name\u001b[0m\u001b[1;33m(\u001b[0m\u001b[1;33m)\u001b[0m\u001b[1;33m\u001b[0m\u001b[0m\n\u001b[0m",
      "\u001b[1;32m~\\AppData\\Local\\Continuum\\miniconda3\\envs\\dataman\\lib\\site-packages\\selenium\\webdriver\\remote\\webelement.py\u001b[0m in \u001b[0;36mtag_name\u001b[1;34m(self)\u001b[0m\n\u001b[0;32m     69\u001b[0m     \u001b[1;32mdef\u001b[0m \u001b[0mtag_name\u001b[0m\u001b[1;33m(\u001b[0m\u001b[0mself\u001b[0m\u001b[1;33m)\u001b[0m\u001b[1;33m:\u001b[0m\u001b[1;33m\u001b[0m\u001b[0m\n\u001b[0;32m     70\u001b[0m         \u001b[1;34m\"\"\"This element's ``tagName`` property.\"\"\"\u001b[0m\u001b[1;33m\u001b[0m\u001b[0m\n\u001b[1;32m---> 71\u001b[1;33m         \u001b[1;32mreturn\u001b[0m \u001b[0mself\u001b[0m\u001b[1;33m.\u001b[0m\u001b[0m_execute\u001b[0m\u001b[1;33m(\u001b[0m\u001b[0mCommand\u001b[0m\u001b[1;33m.\u001b[0m\u001b[0mGET_ELEMENT_TAG_NAME\u001b[0m\u001b[1;33m)\u001b[0m\u001b[1;33m[\u001b[0m\u001b[1;34m'value'\u001b[0m\u001b[1;33m]\u001b[0m\u001b[1;33m\u001b[0m\u001b[0m\n\u001b[0m\u001b[0;32m     72\u001b[0m \u001b[1;33m\u001b[0m\u001b[0m\n\u001b[0;32m     73\u001b[0m     \u001b[1;33m@\u001b[0m\u001b[0mproperty\u001b[0m\u001b[1;33m\u001b[0m\u001b[0m\n",
      "\u001b[1;32m~\\AppData\\Local\\Continuum\\miniconda3\\envs\\dataman\\lib\\site-packages\\selenium\\webdriver\\remote\\webelement.py\u001b[0m in \u001b[0;36m_execute\u001b[1;34m(self, command, params)\u001b[0m\n\u001b[0;32m    626\u001b[0m             \u001b[0mparams\u001b[0m \u001b[1;33m=\u001b[0m \u001b[1;33m{\u001b[0m\u001b[1;33m}\u001b[0m\u001b[1;33m\u001b[0m\u001b[0m\n\u001b[0;32m    627\u001b[0m         \u001b[0mparams\u001b[0m\u001b[1;33m[\u001b[0m\u001b[1;34m'id'\u001b[0m\u001b[1;33m]\u001b[0m \u001b[1;33m=\u001b[0m \u001b[0mself\u001b[0m\u001b[1;33m.\u001b[0m\u001b[0m_id\u001b[0m\u001b[1;33m\u001b[0m\u001b[0m\n\u001b[1;32m--> 628\u001b[1;33m         \u001b[1;32mreturn\u001b[0m \u001b[0mself\u001b[0m\u001b[1;33m.\u001b[0m\u001b[0m_parent\u001b[0m\u001b[1;33m.\u001b[0m\u001b[0mexecute\u001b[0m\u001b[1;33m(\u001b[0m\u001b[0mcommand\u001b[0m\u001b[1;33m,\u001b[0m \u001b[0mparams\u001b[0m\u001b[1;33m)\u001b[0m\u001b[1;33m\u001b[0m\u001b[0m\n\u001b[0m\u001b[0;32m    629\u001b[0m \u001b[1;33m\u001b[0m\u001b[0m\n\u001b[0;32m    630\u001b[0m     \u001b[1;32mdef\u001b[0m \u001b[0mfind_element\u001b[0m\u001b[1;33m(\u001b[0m\u001b[0mself\u001b[0m\u001b[1;33m,\u001b[0m \u001b[0mby\u001b[0m\u001b[1;33m=\u001b[0m\u001b[0mBy\u001b[0m\u001b[1;33m.\u001b[0m\u001b[0mID\u001b[0m\u001b[1;33m,\u001b[0m \u001b[0mvalue\u001b[0m\u001b[1;33m=\u001b[0m\u001b[1;32mNone\u001b[0m\u001b[1;33m)\u001b[0m\u001b[1;33m:\u001b[0m\u001b[1;33m\u001b[0m\u001b[0m\n",
      "\u001b[1;32m~\\AppData\\Local\\Continuum\\miniconda3\\envs\\dataman\\lib\\site-packages\\selenium\\webdriver\\remote\\webdriver.py\u001b[0m in \u001b[0;36mexecute\u001b[1;34m(self, driver_command, params)\u001b[0m\n\u001b[0;32m    312\u001b[0m         \u001b[0mresponse\u001b[0m \u001b[1;33m=\u001b[0m \u001b[0mself\u001b[0m\u001b[1;33m.\u001b[0m\u001b[0mcommand_executor\u001b[0m\u001b[1;33m.\u001b[0m\u001b[0mexecute\u001b[0m\u001b[1;33m(\u001b[0m\u001b[0mdriver_command\u001b[0m\u001b[1;33m,\u001b[0m \u001b[0mparams\u001b[0m\u001b[1;33m)\u001b[0m\u001b[1;33m\u001b[0m\u001b[0m\n\u001b[0;32m    313\u001b[0m         \u001b[1;32mif\u001b[0m \u001b[0mresponse\u001b[0m\u001b[1;33m:\u001b[0m\u001b[1;33m\u001b[0m\u001b[0m\n\u001b[1;32m--> 314\u001b[1;33m             \u001b[0mself\u001b[0m\u001b[1;33m.\u001b[0m\u001b[0merror_handler\u001b[0m\u001b[1;33m.\u001b[0m\u001b[0mcheck_response\u001b[0m\u001b[1;33m(\u001b[0m\u001b[0mresponse\u001b[0m\u001b[1;33m)\u001b[0m\u001b[1;33m\u001b[0m\u001b[0m\n\u001b[0m\u001b[0;32m    315\u001b[0m             response['value'] = self._unwrap_value(\n\u001b[0;32m    316\u001b[0m                 response.get('value', None))\n",
      "\u001b[1;32m~\\AppData\\Local\\Continuum\\miniconda3\\envs\\dataman\\lib\\site-packages\\selenium\\webdriver\\remote\\errorhandler.py\u001b[0m in \u001b[0;36mcheck_response\u001b[1;34m(self, response)\u001b[0m\n\u001b[0;32m    240\u001b[0m                 \u001b[0malert_text\u001b[0m \u001b[1;33m=\u001b[0m \u001b[0mvalue\u001b[0m\u001b[1;33m[\u001b[0m\u001b[1;34m'alert'\u001b[0m\u001b[1;33m]\u001b[0m\u001b[1;33m.\u001b[0m\u001b[0mget\u001b[0m\u001b[1;33m(\u001b[0m\u001b[1;34m'text'\u001b[0m\u001b[1;33m)\u001b[0m\u001b[1;33m\u001b[0m\u001b[0m\n\u001b[0;32m    241\u001b[0m             \u001b[1;32mraise\u001b[0m \u001b[0mexception_class\u001b[0m\u001b[1;33m(\u001b[0m\u001b[0mmessage\u001b[0m\u001b[1;33m,\u001b[0m \u001b[0mscreen\u001b[0m\u001b[1;33m,\u001b[0m \u001b[0mstacktrace\u001b[0m\u001b[1;33m,\u001b[0m \u001b[0malert_text\u001b[0m\u001b[1;33m)\u001b[0m\u001b[1;33m\u001b[0m\u001b[0m\n\u001b[1;32m--> 242\u001b[1;33m         \u001b[1;32mraise\u001b[0m \u001b[0mexception_class\u001b[0m\u001b[1;33m(\u001b[0m\u001b[0mmessage\u001b[0m\u001b[1;33m,\u001b[0m \u001b[0mscreen\u001b[0m\u001b[1;33m,\u001b[0m \u001b[0mstacktrace\u001b[0m\u001b[1;33m)\u001b[0m\u001b[1;33m\u001b[0m\u001b[0m\n\u001b[0m\u001b[0;32m    243\u001b[0m \u001b[1;33m\u001b[0m\u001b[0m\n\u001b[0;32m    244\u001b[0m     \u001b[1;32mdef\u001b[0m \u001b[0m_value_or_default\u001b[0m\u001b[1;33m(\u001b[0m\u001b[0mself\u001b[0m\u001b[1;33m,\u001b[0m \u001b[0mobj\u001b[0m\u001b[1;33m,\u001b[0m \u001b[0mkey\u001b[0m\u001b[1;33m,\u001b[0m \u001b[0mdefault\u001b[0m\u001b[1;33m)\u001b[0m\u001b[1;33m:\u001b[0m\u001b[1;33m\u001b[0m\u001b[0m\n",
      "\u001b[1;31mWebDriverException\u001b[0m: Message: Failed to decode response from marionette\n"
     ]
    }
   ],
   "source": []
  },
  {
   "cell_type": "markdown",
   "metadata": {},
   "source": [
    "### 3. With pages downloaded, scrape the data within each into a single dataframe\n",
    "* Read all html files in the folder\n",
    "* Open content as soup\n",
    "* "
   ]
  },
  {
   "cell_type": "code",
   "execution_count": 23,
   "metadata": {},
   "outputs": [],
   "source": [
    "htmlFiles = glob.glob(\".\\\\Pages\\\\*.html\")"
   ]
  },
  {
   "cell_type": "code",
   "execution_count": 24,
   "metadata": {},
   "outputs": [],
   "source": [
    "def getData(df,util,yr):\n",
    "    tbl = df.iloc[3:]\n",
    "    tbl.columns = df.iloc[2]\n",
    "    tbl.insert(0,'Src_Utility',util)\n",
    "    tbl.insert(1,'Src_Year',yr)\n",
    "    return tbl"
   ]
  },
  {
   "cell_type": "code",
   "execution_count": 53,
   "metadata": {},
   "outputs": [
    {
     "name": "stdout",
     "output_type": "stream",
     "text": [
      "410_WSC,2016\t439_WSC,2016\tABERNATHY,2016\tABILENE,2016\tABLES_SPRINGS_WSC,2016\tACTON_MUD,2016\tADDISON,2016\tAFTON_GROVE_WSC,2016\tAGUA_SUD,2016\tAIRLINE_MOBILE_HOME_PARK_LTD,2016\tAIR_FORCE_VILLAGE_II_INC,2016\tALAMO,2016\tALAMO_HEIGHTS,2016\tALBANY,2016\tALEDO,2016\tALGONQUIN_WATER_RESOURCES_OF_TEXAS,2016\tALICE,2016\tALLEN,2016\tALPINE,2016\tALTO,2016\tALTO_RURAL_WSC,2016\tALVARADO,2016\tALVIN,2016\tALVORD,2016\tAMARILLO,2016\tAMHERST,2016\tANAHUAC,2016\tANDERSON_COUNTY_CEDAR_CREEK_WSC,2016\tANDREWS,2016\tANGELINA_WSC,2016\tANGLETON,2016\tANNA,2016\tANNETTA,2016\tANSON,2016\tANTHONY,2016\tANTON,2016\tAPPLEBY_WSC,2016\tAQUA_WSC,2016\tARANSAS_PASS,2016\tARCHER_CITY,2016\tARCHER_COUNTY_MUD_1,2016\tARGYLE_WSC,2016\tARLEDGE_RIDGE_WSC,2016\tARLINGTON,2016\tARMSTRONG_WSC,2016\tARP,2016\tASHERTON,2016\tASPERMONT,2016\tATASCOSA_RURAL_WSC,2016\tATHENS,2016\tATLANTA,2016\tAUBREY,2016\tAUSTIN,2016\tAUSTIN_COUNTY_WSC,2016\tAVALON_WATER_SUPPLY_&_SEWER_SERVICE,2016\tAXTELL_WSC,2016\tAZLE,2016\tBACLIFF_MUD,2016\tBAFFIN_BAY_WSC,2016\tBAIRD,2016\tBAKER_ROAD_MUD,2016\tBALCH_SPRINGS,2016\tBALLINGER,2016\tBALMORHEA,2016\tBANDERA,2016\tBANDERA_COUNTY_FWSD_1,2016\tBANGS,2016\tBARSTOW,2016\tBARTLETT,2016\tBARTON_CREEK_WEST_WSC,2016\tBARTON_CREEK_WSC,2016\tBASTROP,2016\tBASTROP_COUNTY_WCID_2,2016\tBATESVILLE_WSC,2016\tBAYBROOK_MUD_1,2016\tBAYLOR_SUD,2016\tBAYTOWN,2016\tBAYVIEW_MUD,2016\tBAY_CITY,2016\tBEAR_CREEK_SUD,2016\tBEAUMONT,2016\tBECKER_JIBA_WSC,2016\tBECKVILLE,2016\tBEDFORD,2016\tBEEVILLE,2016\tBELLAIRE,2016\tBELLMEAD,2016\tBELLS,2016\tBELLVILLE,2016\tBELL_COUNTY_WCID_2,2016\tBELL_COUNTY_WCID_3,2016\tBELL_MILAM_FALLS_WSC,2016\tBELTON,2016\tBENBROOK_WATER_AUTHORITY,2016\tBENTON_CITY_WSC,2016\tBEN_WHEELER_WSC,2016\tBERRYVILLE,2016\tBERTRAM,2016\tBETHANY_HEARNE_WSC,2016\tBETHANY_WSC,2016\tBETHEL_ASH_WSC,2016\tBETHESDA_WSC,2016\tBEVIL_OAKS,2016\tBEXAR_COUNTY_WCID_10,2016\tBIG_LAKE,2016\tBIG_SANDY,2016\tBIG_SPRING,2016\tBIG_WELLS,2016\tBIROME_WSC,2016\tBISHOP,2016\tBISTONE_MUNICIPAL_WATER_SUPPLY_DISTRICT,2016\tBI_COUNTY_WSC,2016\tBLACKJACK_WSC,2016\tBLACKLAND_WSC,2016\tBLACK_ROCK_WSC,2016\tBLANCO,2016\tBLOCKER_CROSSROADS_WSC,2016\tBLOCK_HOUSE_MUD,2016\tBLOOMING_GROVE,2016\tBLOSSOM,2016\tBLUE_BELL_MANOR_UTILITY,2016\tBLUE_RIDGE,2016\tBLUE_RIDGE_WEST_MUD,2016\tBOERNE,2016\tBOGATA,2016\tBOIS_D_ARC_MUD,2016\tBOLD_SPRINGS_WSC,2016\tBOLING_MWD,2016\tBOLIVAR_PENINSULA_SUD,2016\tBOLIVAR_WSC,2016\tBONHAM,2016\tBOOKER,2016\tBORGER,2016\tBOVINA,2016\tBOWIE,2016\tBOYD,2016\tBRACKETTVILLE,2016\tBRADY,2016\tBRANDON_IRENE_WSC,2016\tBRASHEAR_WSC,2016\tBRAZORIA,2016\tBRAZORIA_COUNTY_MUD_21,2016\tBRAZORIA_COUNTY_MUD_25,2016\tBRAZORIA_COUNTY_MUD_29,2016\tBRAZORIA_COUNTY_MUD_2,2016\tBRAZORIA_COUNTY_MUD_31,2016\tBRAZORIA_COUNTY_MUD_3,2016\tBRAZORIA_COUNTY_MUD_6,2016\tBRECKENRIDGE,2016\tBREMOND,2016\tBRENHAM,2016\tBRIARCLIFF,2016\tBRIDGEPORT,2016\tBRIDGE_CITY,2016\tBRIGHT_STAR_SALEM_SUD,2016\tBRINKER_WSC,2016\tBRONTE,2016\tBROOKELAND_FWSD,2016\tBROOKESMITH_SUD,2016\tBROOKSHIRE_MWD,2016\tBROWNFIELD,2016\tBROWNSBORO,2016\tBROWNSVILLE,2016\tBROWNWOOD,2016\tBRUCEVILLE_EDDY,2016\tBRUSHY_CREEK_MUD,2016\tBRUSHY_CREEK_WSC,2016\tBRYAN,2016\tBUDA,2016\tBUENA_VISTA-BETHEL_SUD,2016\tBUFFALO,2016\tBULLARD,2016\tBUNKER_HILL_VILLAGE,2016\tBURKBURNETT,2016\tBURLESON,2016\tBURNET,2016\tBURNS_REDBANK_WSC,2016\tBUTLER_WSC,2016\tB_AND_B_WSC,2016\tB_B_S_WSC,2016\tB_C_Y_WSC,2016\tB_H_P_WSC,2016\tCACTUS_MUNICIPAL_WATER_SYSTEM,2016\tCADDO_BASIN_SUD,2016\tCADDO_MILLS,2016\tCALDWELL,2016\tCALLAHAN_COUNTY_WSC,2016\tCALLISBURG_WSC,2016\tCALVERT,2016\tCAMERON,2016\tCAMP_WOOD,2016\tCANADIAN,2016\tCANEY_CREEK_MUD_OF_MATAGORDA_COUNTY,2016\tCANTON,2016\tCANYON,2016\tCANYON_LAKE_WATER_SERVICE,2016\tCAPE_ROYALE_UD,2016\tCARO_WSC,2016\tCARRIZO_HILL_WSC,2016\tCARRIZO_SPRINGS,2016\tCARROLLTON,2016\tCARROLL_WSC,2016\tCARTHAGE,2016\tCASH_SUD,2016\tCASTROVILLE,2016\tCEDAR_HILL,2016\tCEDAR_PARK,2016\tCEGO-DURANGO_WSC,2016\tCELESTE,2016\tCELINA,2016\tCENTERVILLE,2016\tCENTERVILLE_WSC,2016\tCENTER,2016\tCENTRAL_BOSQUE_WSC,2016\tCENTRAL_BOWIE_COUNTY_WSC,2016\tCENTRAL_HARRIS_COUNTY_REGIONAL_WATER_AUTHORITY,2016\tCENTRAL_TEXAS_COLLEGE_DISTRICT,2016\tCENTRAL_WASHINGTON_COUNTY_WSC,2016\tCENTRAL_WCID_OF_ANGELINA_COUNTY,2016\tCHALK_BLUFF_WSC,2016\tCHALK_HILL_SUD,2016\tCHAMBERS_COUNTY_MUD_1,2016\tCHANDLER,2016\tCHAPPELL_HILL_WSC,2016\tCHARLOTTE,2016\tCHATEAU_WOODS_MUD,2016\tCHATFIELD_WSC,2016\tCHATT_WSC,2016\tCHESTER_WSC,2016\tCHICO,2016\tCHILDRESS,2016\tCHILDRESS_CREEK_WSC,2016\tCHIMNEY_HILL_MUD,2016\tCHINA,2016\tCHOICE_WSC,2016\tCIBOLO,2016\tCIMARRON_PARK_WATER,2016\tCISCO,2016\tCLARENDON,2016\tCLARKSVILLE,2016\tCLARKSVILLE_CITY,2016\tCLAUDE_MUNICIPAL_WATER_SYSTEM,2016\tCLEAR_BROOK_CITY_MUD,2016\tCLEAR_LAKE_CITY_WATER_AUTHORITY,2016\tCLEAR_WATER_ESTATES_WATER_SYSTEM,2016\tCLEBURNE,2016\tCLEVELAND,2016\tCLIFTON,2016\tCLUTE,2016\tCLYDE,2016\tCOAHOMA,2016\tCOCKRELL_HILL,2016\tCOLEMAN,2016\tCOLEMAN_COUNTY_SUD,2016\tCOLLEGE_MOUND_WSC,2016\tCOLLEGE_STATION,2016\tCOLLEYVILLE,2016\tCOLLINSVILLE,2016\tCOLMESNEIL,2016\tCOLORADO_CITY,2016\tCOLUMBUS,2016\tCOMANCHE,2016\tCOMBES,2016\tCOMBINED_CONSUMERS_SUD,2016\tCOMBINE_WSC,2016\tCOMMERCE,2016\tCOMMUNITY_WSC,2016\tCONCHO_RURAL_WATER,2016\tCONCORD-ROBBINS_WSC,2016\tCONROE,2016\tCONVERSE,2016\tCOOLIDGE,2016\tCOOPER,2016\tCOPEVILLE_SUD,2016\tCOPPELL,2016\tCOPPERAS_COVE,2016\tCORBET_WSC,2016\tCORINTHIAN_POINT_MUD_2,2016\tCORINTH,2016\tCORIX_UTILITIES_TEXAS_INC,2016\tCORNERSVILLE_WSC,2016\tCORPUS_CHRISTI,2016\tCORPUS_CHRISTI_NAVAL_AIR_STATION,2016\tCORRIGAN,2016\tCORSICANA,2016\tCORYELL_CITY_WATER_SUPPLY_DISTRICT,2016\tCOTTONWOOD_CREEK_MUD_1,2016\tCOTTONWOOD_SHORES,2016\tCOTULLA,2016\tCOUNTRY_TERRACE_WATER,2016\tCOUNTY_LINE_SUD,2016\tCRAFT_TURNEY_WSC,2016\tCRANDALL,2016\tCRANE,2016\tCRAWFORD,2016\tCREEDMOOR-MAHA_WSC,2016\tCRESCENT_HEIGHTS_WSC,2016\tCROCKETT,2016\tCROCKETT_COUNTY_WCID_1,2016\tCROSBYTON,2016\tCROSBY_MUD,2016\tCROSS_COUNTRY_WSC,2016\tCROSS_PLAINS,2016\tCROSS_ROADS_SUD,2016\tCROSS_TIMBERS_WSC,2016\tCROWELL,2016\tCROWLEY,2016\tCRYSTAL_CITY,2016\tCRYSTAL_CLEAR_WSC,2016\tCRYSTAL_FARMS_WSC,2016\tCRYSTAL_SYSTEMS_TEXAS,2016\tCUERO,2016\tCULLEOKA_WSC,2016\tCUMBY,2016\tCUSHING,2016\tCUT_&_SHOOT,2016\tCYPRESS_CREEK_WSC,2016\tCYPRESS_RANCH_WCID_1,2016\tCYPRESS_SPRINGS_SUD,2016\tDADS_Supported_Living_Center,2016\tDAINGERFIELD,2016\tDAISETTA,2016\tDALHART,2016\tDALLAS,2016\tDALWORTHINGTON_GARDENS,2016\tDAMASCUS-STRYKER_WSC,2016\tDANBURY,2016\tDARROUZETT,2016\tDAWSON,2016\tDAYTON,2016\tDEANVILLE_WSC,2016\tDEAN_DALE_SUD,2016\tDEAN_WSC,2016\tDECATUR,2016\tDEER_CREEK_RANCH_WATER,2016\tDEER_PARK,2016\tDELTA_COUNTY_MUD,2016\tDEL_RIO_UTILITIES_COMMISSION,2016\tDENISON,2016\tDENTON,2016\tDENTON_COUNTY_FWSD_1-A,2016\tDENTON_COUNTY_FWSD_10,2016\tDENTON_COUNTY_FWSD_7,2016\tDENVER_CITY,2016\tDESERT_WSC,2016\tDESOTO,2016\tDEVERS,2016\tDEVINE,2016\tDE_KALB,2016\tDE_LEON,2016\tDIANA_SUD,2016\tDIBOLL,2016\tDILLEY,2016\tDIMMITT,2016\tDOBBIN_PLANTERSVILLE_WSC,2016\tDODGE_OAKHURST_WSC,2016\tDOGWOOD_ESTATES_WATER,2016\tDOG_RIDGE_WSC,2016\tDOMESTIC_WATER,2016\tDONNA,2016\tDORCHESTER,2016\tDOUBLE_DIAMOND_UTILITIES,2016\tDOUGLAS_UTILITY,2016\tDRIPPING_SPRINGS_WSC,2016\tDRISCOLL,2016\tDUBLIN,2016\tDUMAS,2016\tDUNCANVILLE,2016\tDUVAL_COUNTY_CRD,2016\tD_&_M_WSC,2016\tEAGLE_LAKE,2016\tEAGLE_PASS,2016\tEARLY,2016\tEARTH,2016\tEASTERN_CASS_WSC,2016\tEASTLAND,2016\tEAST_BELL_WSC,2016\tEAST_BIGGS_WATER_SYSTEM,2016\tEAST_CEDAR_CREEK_FWSD,2016\tEAST_CENTRAL_SUD,2016\tEAST_CRAWFORD_WSC,2016\tEAST_FORK_SUD,2016\tEAST_GARRETT_WSC,2016\tEAST_LAMAR_WSC,2016\tEAST_MEDINA_COUNTY_SUD,2016\tEAST_MONTANA_WATER_SYSTEM,2016\tEAST_MOUNTAIN_WATER_SYSTEM,2016\tEAST_PLANTATION_UD,2016\tEAST_RIO_HONDO_WSC,2016\tEAST_TAWAKONI,2016\tEBENEZER_WSC,2016\tEDCOUCH,2016\tEDEN,2016\tEDGECLIFF,2016\tEDGEWOOD,2016\tEDINBURG,2016\tEDNA,2016\tEDOM_WSC,2016\tELDERVILLE_WSC,2016\tELDORADO,2016\tELECTRA,2016\tELGIN,2016\tELKHART,2016\tELMENDORF,2016\tELMO_WSC,2016\tELM_CREEK_WSC,2016\tELSA,2016\tEL_CAMPO,2016\tEL_DORADO_UD,2016\tEL_JARDIN_WSC,2016\tEL_OSO_WSC,2016\tEL_PASO_COUNTY_TORNILLO_WID,2016\tEL_PASO_COUNTY_WCID_4,2016\tEL_PASO_WATER_UTILITIES_PUBLIC_SERVICE_BOARD,2016\tEL_SAUZ_WSC,2016\tEL_TANQUE_WSC,2016\tEMERALD_BAY_MUD,2016\tEMORY,2016\tENCINAL_WSC,2016\tENNIS,2016\tEOL_WSC,2016\tESPERANZA_WATER_SERVICE,2016\tETOILE_WSC,2016\tEULA_WSC,2016\tEULESS,2016\tEUSTACE,2016\tEVERMAN,2016\tE_M_C_WSC,2016\tFAIRFIELD,2016\tFAIRVIEW,2016\tFAIR_OAKS_RANCH,2016\tFALCON_RURAL_WSC,2016\tFALFURRIAS,2016\tFALLS_CITY,2016\tFARMERSVILLE,2016\tFARMERS_BRANCH,2016\tFARWELL,2016\tFAR_HILLS_UD,2016\tFATE,2016\tFAYETTE_COUNTY_WCID_MONUMENT_HILL,2016\tFAYETTE_WSC,2016\tFEDERAL_CORRECTIONAL_INSTITUTION_LA_TUNA,2016\t"
     ]
    },
    {
     "name": "stdout",
     "output_type": "stream",
     "text": [
      "FERN_BLUFF_MUD,2016\tFERRIS,2016\tFILES_VALLEY_WSC,2016\tFIRST_COLONY_MUD_9,2016\tFIVE_WAY_WSC,2016\tFLATONIA,2016\tFLAT_FORK_WSC,2016\tFLAT_WSC,2016\tFLORENCE,2016\tFLORESVILLE,2016\tFLOWER_MOUND,2016\tFLOYDADA,2016\tFLO_COMMUNITY_WSC,2016\tFOLLETT,2016\tFOREST_HILLS_MUD,2016\tFOREST_HILL,2016\tFORNEY,2016\tFORNEY_LAKE_WSC,2016\tFORT_BELKNAP_WSC,2016\tFORT_BEND_COUNTY_FWSD_1,2016\tFORT_BEND_COUNTY_FWSD_2,2016\tFORT_BEND_COUNTY_MUD_115,2016\tFORT_BEND_COUNTY_MUD_116,2016\tFORT_BEND_COUNTY_MUD_121,2016\tFORT_BEND_COUNTY_MUD_128,2016\tFORT_BEND_COUNTY_MUD_129,2016\tFORT_BEND_COUNTY_MUD_140,2016\tFORT_BEND_COUNTY_MUD_149,2016\tFORT_BEND_COUNTY_MUD_152,2016\tFORT_BEND_COUNTY_MUD_155,2016\tFORT_BEND_COUNTY_MUD_158,2016\tFORT_BEND_COUNTY_MUD_162,2016\tFORT_BEND_COUNTY_MUD_187,2016\tFORT_BEND_COUNTY_MUD_23,2016\tFORT_BEND_COUNTY_MUD_24,2016\tFORT_BEND_COUNTY_MUD_25,2016\tFORT_BEND_COUNTY_MUD_26,2016\tFORT_BEND_COUNTY_MUD_42,2016\tFORT_BEND_COUNTY_MUD_46,2016\tFORT_BEND_COUNTY_MUD_47,2016\tFORT_BEND_COUNTY_MUD_48,2016\tFORT_BEND_COUNTY_MUD_49,2016\tFORT_BEND_COUNTY_MUD_5,2016\tFORT_BEND_COUNTY_MUD_81,2016\tFORT_BEND_COUNTY_WCID_2,2016\tFORT_BEND_COUNTY_WCID_3,2016\tFORT_BLISS_WATER_SERVICES,2016\tFORT_CLARK_SPRINGS_MUD,2016\tFORT_DAVIS_WSC,2016\tFORT_GATES_WSC,2016\tFORT_GRIFFIN_SUD,2016\tFORT_HOOD,2016\tFORT_SAM_HOUSTON,2016\tFORT_STOCKTON,2016\tFORT_WORTH,2016\tFOUKE_WSC,2016\tFOUR_PINES_WSC,2016\tFOUR_WAY_SUD,2016\tFRANKLIN,2016\tFRANKSTON,2016\tFRANKSTON_RURAL_WSC,2016\tFREDERICKSBURG,2016\tFREEPORT,2016\tFREER_WCID,2016\tFRIENDSWOOD,2016\tFRIONA,2016\tFRISCO,2016\tFRITCH,2016\tFROGNOT_WSC,2016\tFRUITVALE_WSC,2016\tFULSHEAR,2016\tGAFFORD_CHAPEL_WSC,2016\tGAINESVILLE,2016\tGALENA_PARK,2016\tGALVESTON,2016\tGALVESTON_COUNTY_FWSD_6,2016\tGALVESTON_COUNTY_MUD_12,2016\tGALVESTON_COUNTY_WCID_12,2016\tGALVESTON_COUNTY_WCID_1,2016\tGALVESTON_COUNTY_WCID_8,2016\tGANADO,2016\tGARDEN_RIDGE,2016\tGARFIELD_WSC,2016\tGARLAND,2016\tGARRISON,2016\tGASTONIA_SCURRY_SUD,2016\tGASTON_WSC,2016\tGATESVILLE,2016\tGEORGETOWN,2016\tGEORGE_WEST,2016\tGHOLSON_WSC,2016\tGIDDINGS,2016\tGILL_WSC,2016\tGILMER,2016\tGLADEWATER,2016\tGLENDALE_WSC,2016\tGLENN_HEIGHTS,2016\tGLENWOOD_WSC,2016\tGLEN_ROSE,2016\tGODLEY,2016\tGOFORTH_SUD,2016\tGOLDEN_WSC,2016\tGOLDTHWAITE,2016\tGOLIAD,2016\tGONZALES,2016\tGONZALES_COUNTY_WSC,2016\tGOODFELLOW_AIR_FORCE_BASE,2016\tGOODSPRINGS_WSC,2016\tGORDON,2016\tGORMAN,2016\tGRAHAM,2016\tGRANBURY,2016\tGRANDFALLS,2016\tGRANDVIEW,2016\tGRAND_PRAIRIE,2016\tGRAND_SALINE,2016\tGRANGER,2016\tGRANITE_SHOALS,2016\tGRAPELAND,2016\tGRAPEVINE,2016\tGREATER_GARDENDALE_WSC,2016\tGREENVILLE,2016\tGREENWOOD_UD,2016\tGREENWOOD_WATER,2016\tGREEN_TRAILS_MUD,2016\tGREEN_VALLEY_SUD,2016\tGREGORY,2016\tGROESBECK,2016\tGROOM_MUNICIPAL_WATER_SYSTEM,2016\tGROVES,2016\tGROVETON,2016\tGRUVER,2016\tGUADALUPE-BLANCO_RIVER_AUTHORITY,2016\tGULF_UTILITY,2016\tGUM_CREEK_WSC,2016\tGUM_SPRINGS_WSC,2016\tGUNTER,2016\tG_&_W_WSC,2016\tG_M_WSC,2016\tHACIENDAS_DEL_NORTE_WID,2016\tHACKBERRY,2016\tHALE_CENTER,2016\tHALLETTSVILLE,2016\tHALLSVILLE,2016\tHALTOM_CITY,2016\tHAMBY_WSC,2016\tHAMILTON,2016\tHAMLIN,2016\tHAPPY,2016\tHARDIN_COUNTY_WCID_1,2016\tHARDIN_WSC,2016\tHARKER_HEIGHTS,2016\tHARLETON_WSC,2016\tHARLINGEN,2016\tHARRIS-MONTGOMERY_COUNTIES_MUD_386,2016\tHARRIS_COUNTY_FWSD_1-A,2016\tHARRIS_COUNTY_FWSD_27,2016\tHARRIS_COUNTY_FWSD_58,2016\tHARRIS_COUNTY_MUD_106,2016\tHARRIS_COUNTY_MUD_119,2016\tHARRIS_COUNTY_MUD_11,2016\tHARRIS_COUNTY_MUD_122,2016\tHARRIS_COUNTY_MUD_132,2016\tHARRIS_COUNTY_MUD_148,2016\tHARRIS_COUNTY_MUD_151,2016\tHARRIS_COUNTY_MUD_152,2016\tHARRIS_COUNTY_MUD_153,2016\tHARRIS_COUNTY_MUD_154,2016\tHARRIS_COUNTY_MUD_158,2016\tHARRIS_COUNTY_MUD_180,2016\tHARRIS_COUNTY_MUD_189,2016\tHARRIS_COUNTY_MUD_216,2016\tHARRIS_COUNTY_MUD_221,2016\tHARRIS_COUNTY_MUD_23,2016\tHARRIS_COUNTY_MUD_278,2016\tHARRIS_COUNTY_MUD_290,2016\tHARRIS_COUNTY_MUD_321,2016\tHARRIS_COUNTY_MUD_342,2016\tHARRIS_COUNTY_MUD_344,2016\tHARRIS_COUNTY_MUD_345,2016\tHARRIS_COUNTY_MUD_361,2016\tHARRIS_COUNTY_MUD_36,2016\tHARRIS_COUNTY_MUD_372,2016\tHARRIS_COUNTY_MUD_400,2016\tHARRIS_COUNTY_MUD_412,2016\tHARRIS_COUNTY_MUD_420,2016\tHARRIS_COUNTY_MUD_46,2016\tHARRIS_COUNTY_MUD_49,2016\tHARRIS_COUNTY_MUD_50,2016\tHARRIS_COUNTY_MUD_55,2016\tHARRIS_COUNTY_MUD_58,2016\tHARRIS_COUNTY_MUD_5,2016\tHARRIS_COUNTY_MUD_6,2016\tHARRIS_COUNTY_MUD_8,2016\tHARRIS_COUNTY_MUD_96,2016\tHARRIS_COUNTY_UD_14,2016\tHARRIS_COUNTY_UD_15,2016\tHARRIS_COUNTY_WCID-FONDREN_ROAD,2016\tHARRIS_COUNTY_WCID_133,2016\tHARRIS_COUNTY_WCID_156,2016\tHARRIS_COUNTY_WCID_1,2016\tHARRIS_COUNTY_WCID_50,2016\tHARRIS_COUNTY_WCID_70,2016\tHARRIS_COUNTY_WCID_74,2016\tHARRIS_COUNTY_WCID_89,2016\tHARRIS_COUNTY_WCID_96,2016\tHARROLD_WSC,2016\tHARTLEY_WSC,2016\tHART_MUNICIPAL_WATER_SYSTEM,2016\tHASKELL,2016\tHASLET,2016\tHAWKINS,2016\tHAWLEY_WSC,2016\tHAYS,2016\tHAYS_COUNTY_WCID_1,2016\tHAYS_COUNTY_WCID_2,2016\tHEARNE,2016\tHEATH,2016\tHEMPHILL,2016\tHEMPSTEAD,2016\tHENDERSON,2016\tHENRIETTA,2016\tHEREFORD,2016\tHEWITT,2016\tHICKORY_CREEK_SUD,2016\tHICO,2016\tHIDALGO,2016\tHIDALGO_COUNTY_MUD_1,2016\tHIGGINS_MUNICIPAL_WATER_SYSTEM,2016\tHIGHLAND_PARK,2016\tHIGHLAND_PARK_WSC,2016\tHIGHLAND_VILLAGE,2016\tHIGH_POINT_WSC,2016\tHILCO_UNITED_SERVICES,2016\tHILLCREST_VILLAGE,2016\tHILLSBORO,2016\tHILLTOP_LAKES_WSC,2016\tHILLTOP_WSC,2016\tHILL_COUNTY_WSC,2016\tHILSHIRE_VILLAGE,2016\tHITCHCOCK,2016\tHMW_SUD,2016\t"
     ]
    },
    {
     "ename": "IndexError",
     "evalue": "list index out of range",
     "output_type": "error",
     "traceback": [
      "\u001b[1;31m---------------------------------------------------------------------------\u001b[0m",
      "\u001b[1;31mIndexError\u001b[0m                                Traceback (most recent call last)",
      "\u001b[1;32m<ipython-input-53-17f08713b35f>\u001b[0m in \u001b[0;36m<module>\u001b[1;34m()\u001b[0m\n\u001b[0;32m     20\u001b[0m     \u001b[0mTable2\u001b[0m \u001b[1;33m=\u001b[0m \u001b[0mgetData\u001b[0m\u001b[1;33m(\u001b[0m\u001b[0mdfs\u001b[0m\u001b[1;33m[\u001b[0m\u001b[1;36m3\u001b[0m\u001b[1;33m]\u001b[0m\u001b[1;33m,\u001b[0m\u001b[0mutility\u001b[0m\u001b[1;33m,\u001b[0m\u001b[0myear\u001b[0m\u001b[1;33m)\u001b[0m\u001b[1;33m\u001b[0m\u001b[0m\n\u001b[0;32m     21\u001b[0m     \u001b[0mTable3\u001b[0m \u001b[1;33m=\u001b[0m \u001b[0mgetData\u001b[0m\u001b[1;33m(\u001b[0m\u001b[0mdfs\u001b[0m\u001b[1;33m[\u001b[0m\u001b[1;36m4\u001b[0m\u001b[1;33m]\u001b[0m\u001b[1;33m,\u001b[0m\u001b[0mutility\u001b[0m\u001b[1;33m,\u001b[0m\u001b[0myear\u001b[0m\u001b[1;33m)\u001b[0m\u001b[1;33m\u001b[0m\u001b[0m\n\u001b[1;32m---> 22\u001b[1;33m     \u001b[0mTable4\u001b[0m \u001b[1;33m=\u001b[0m \u001b[0mgetData\u001b[0m\u001b[1;33m(\u001b[0m\u001b[0mdfs\u001b[0m\u001b[1;33m[\u001b[0m\u001b[1;36m5\u001b[0m\u001b[1;33m]\u001b[0m\u001b[1;33m,\u001b[0m\u001b[0mutility\u001b[0m\u001b[1;33m,\u001b[0m\u001b[0myear\u001b[0m\u001b[1;33m)\u001b[0m\u001b[1;33m\u001b[0m\u001b[0m\n\u001b[0m\u001b[0;32m     23\u001b[0m     \u001b[1;31m#Table5 = getData(dfs[6],utility,year)\u001b[0m\u001b[1;33m\u001b[0m\u001b[1;33m\u001b[0m\u001b[0m\n\u001b[0;32m     24\u001b[0m \u001b[1;33m\u001b[0m\u001b[0m\n",
      "\u001b[1;31mIndexError\u001b[0m: list index out of range"
     ]
    }
   ],
   "source": [
    "for htmlFile in htmlFiles:\n",
    "    #Get utility and name from the file\n",
    "    utility = htmlFile.split(\"\\\\\")[-1][:-10]\n",
    "    year = htmlFile[-9:-5]\n",
    "    print(\"{},{}\".format(utility,year),end=\"\\t\")\n",
    "\n",
    "    #Read the contents\n",
    "    content = open(htmlFile,'r').read()\n",
    "    soup = BeautifulSoup(content,'lxml') \n",
    "\n",
    "    #Parse \n",
    "    bigDiv = soup.find(id='VisibleReportContentReportViewerControl_ctl09')\n",
    "    tbls = bigDiv.contents[0].contents[0].contents[0].contents[0].contents[0].contents[0].contents[0]\n",
    "\n",
    "    #Convert results to dataframes\n",
    "    dfs = pd.read_html(str(tbls))\n",
    "\n",
    "    #Pull data from tables\n",
    "    Table1 = getData(dfs[2],utility,year)\n",
    "    Table2 = getData(dfs[3],utility,year)\n",
    "    Table3 = getData(dfs[4],utility,year)\n",
    "    Table4 = getData(dfs[5],utility,year)\n",
    "    #Table5 = getData(dfs[6],utility,year)\n",
    "\n",
    "    #Merge data\n",
    "    if htmlFile == htmlFiles[0]:\n",
    "        df1 = Table1\n",
    "        df2 = Table2\n",
    "        df3 = Table3\n",
    "        df4 = Table4\n",
    "        #df5 = Table5\n",
    "    else:\n",
    "        df1 = pd.concat((df1,Table1))\n",
    "        df2 = pd.concat((df2,Table2))\n",
    "        df3 = pd.concat((df3,Table3))\n",
    "        df4 = pd.concat((df4,Table4))\n",
    "        #df5 = pd.concat((df5,Table5))\n",
    "    \n",
    "#Write tables out\n",
    "df1.to_csv(\"Table1.csv\",index=False)\n",
    "df2.to_csv(\"Table2.csv\",index=False)\n",
    "df3.to_csv(\"Table3.csv\",index=False)\n",
    "df4.to_csv(\"Table4.csv\",index=False)\n",
    "#df5.to_csv(\"Table5.csv\",index=False)"
   ]
  },
  {
   "cell_type": "code",
   "execution_count": 54,
   "metadata": {},
   "outputs": [],
   "source": [
    "df1.to_csv(\"Table1.csv\",index=False)\n",
    "df2.to_csv(\"Table2.csv\",index=False)\n",
    "df3.to_csv(\"Table3.csv\",index=False)\n",
    "df4.to_csv(\"Table4.csv\",index=False)"
   ]
  },
  {
   "cell_type": "code",
   "execution_count": 42,
   "metadata": {},
   "outputs": [],
   "source": [
    "dfDict = {}\n",
    "for dfX in dfs:\n",
    "    if dfX.shape[1] < 2: continue\n",
    "    if dfX.iloc[1,0] == 'Table 1. Calculated GPCD of the WUG Utility': dfDict['1']=dfX\n",
    "    if dfX.iloc[1,0] == 'Table 2. Water System(s) of the WUG Utility': dfDict['2']=dfX\n",
    "    if dfX.iloc[1,0] == 'Table 3. Intake Volumes of Water Systems of the WUG Utility': dfDict['3']=dfX\n",
    "    if dfX.iloc[1,0] == 'Table 4. Sales Volumes of Water Systems of the WUG Utility': dfDict['4']=dfX  "
   ]
  },
  {
   "cell_type": "code",
   "execution_count": 52,
   "metadata": {},
   "outputs": [
    {
     "ename": "IndexError",
     "evalue": "list index out of range",
     "output_type": "error",
     "traceback": [
      "\u001b[1;31m---------------------------------------------------------------------------\u001b[0m",
      "\u001b[1;31mIndexError\u001b[0m                                Traceback (most recent call last)",
      "\u001b[1;32m<ipython-input-52-a2902fbfdaae>\u001b[0m in \u001b[0;36m<module>\u001b[1;34m()\u001b[0m\n\u001b[1;32m----> 1\u001b[1;33m \u001b[0mdfs\u001b[0m\u001b[1;33m[\u001b[0m\u001b[1;36m6\u001b[0m\u001b[1;33m]\u001b[0m\u001b[1;33m.\u001b[0m\u001b[0miloc\u001b[0m\u001b[1;33m[\u001b[0m\u001b[1;36m1\u001b[0m\u001b[1;33m,\u001b[0m\u001b[1;36m1\u001b[0m\u001b[1;33m]\u001b[0m\u001b[1;33m\u001b[0m\u001b[0m\n\u001b[0m",
      "\u001b[1;31mIndexError\u001b[0m: list index out of range"
     ]
    }
   ],
   "source": [
    "dfs[6].iloc[1,1]"
   ]
  },
  {
   "cell_type": "code",
   "execution_count": null,
   "metadata": {},
   "outputs": [],
   "source": []
  }
 ],
 "metadata": {
  "kernelspec": {
   "display_name": "Python 3",
   "language": "python",
   "name": "python3"
  },
  "language_info": {
   "codemirror_mode": {
    "name": "ipython",
    "version": 3
   },
   "file_extension": ".py",
   "mimetype": "text/x-python",
   "name": "python",
   "nbconvert_exporter": "python",
   "pygments_lexer": "ipython3",
   "version": "3.6.6"
  }
 },
 "nbformat": 4,
 "nbformat_minor": 2
}
